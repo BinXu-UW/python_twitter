{
 "cells": [
  {
   "cell_type": "code",
   "execution_count": 1,
   "metadata": {
    "collapsed": true
   },
   "outputs": [],
   "source": [
    "import tweepy\n",
    "from textblob import TextBlob\n",
    "import time\n",
    "from tweepy.streaming import StreamListener\n",
    "from tweepy import OAuthHandler\n",
    "from tweepy import Stream"
   ]
  },
  {
   "cell_type": "code",
   "execution_count": 2,
   "metadata": {
    "collapsed": true
   },
   "outputs": [],
   "source": [
    "consumer_key='7Rl2dNWbahxQcvHjrdqNo9Azc'\n",
    "consumer_secret='FlksRioJcF8fDw5VtkYQ2DXgOfI1Yu27ngwqw9BvrLsShx2TfW'\n",
    "\n",
    "access_token='3194888576-G35yt1YrrtSJ0FoHHDLLD5UMDKisQSWZYZixGKQ'\n",
    "access_token_secret='Xq4Gd1qDoGe075ek3GSnM5zZuILYZY4t3IteXeQWh8hQp'\n",
    "\n",
    "auth=tweepy.OAuthHandler(consumer_key,consumer_secret)\n",
    "auth.set_access_token(access_token,access_token_secret)"
   ]
  },
  {
   "cell_type": "code",
   "execution_count": null,
   "metadata": {
    "collapsed": true
   },
   "outputs": [],
   "source": [
    "\n",
    "class StdoutListener(StreamListener):\n",
    "    def on_data(self,data):\n",
    "        try:\n",
    "            print (data)\n",
    "            savefile=open('D:/SIT_Class/EE 551 Python/crawler/twitter222.txt','a')\n",
    "            savefile.write(data)\n",
    "            savefile.write(\"\\n\")\n",
    "            savefile.close()\n",
    "            return True\n",
    "        except BaseException as e:\n",
    "            print(\"Failed on Data\",str(e))\n",
    "            time.sleep(5)\n",
    "    def on_erro(self,status):\n",
    "        print(status)\n"
   ]
  },
  {
   "cell_type": "code",
   "execution_count": null,
   "metadata": {},
   "outputs": [],
   "source": [
    "if __name__ == \"__main__\":\n",
    "    l=StdoutListener()\n",
    "    auth=tweepy.OAuthHandler(consumer_key,consumer_secret)\n",
    "    auth.set_access_token(access_token,access_token_secret)\n",
    "    stream=Stream(auth,l)\n",
    "    stream.filter(track=['#Flu2018'])\n"
   ]
  },
  {
   "cell_type": "code",
   "execution_count": 4,
   "metadata": {},
   "outputs": [
    {
     "name": "stdout",
     "output_type": "stream",
     "text": [
      "RT @HIVMA: Join @SHEA_Epi @IDSAInfo @PIDSociety @HIVMA on 3/22 for lunch to hear from #infectiousdisease and #HIV physicians on the front l…\n",
      "Sentiment(polarity=0.0, subjectivity=0.0)\n",
      "Join @SHEA_Epi @IDSAInfo @PIDSociety @HIVMA on 3/22 for lunch to hear from #infectiousdisease and #HIV physicians o… https://t.co/qNleuzMHSb\n",
      "Sentiment(polarity=0.0, subjectivity=0.0)\n",
      "Watch on #Periscope: I missed you..#Flu2018 #imback #TGIFriday https://t.co/vGa9fAa2PG\n",
      "Sentiment(polarity=0.0, subjectivity=0.0)\n",
      "ME ME ME AGAIN!!!!!!!!! #Flu2018 😭😷😭😷😭😷 https://t.co/50FrNKM70F\n",
      "Sentiment(polarity=0.0, subjectivity=0.0)\n",
      "This is the worse #Flu2018 ever! I'm running a 103-104 fever again and I'm trying to keep it at bay with Motrin and… https://t.co/G6LlbkL8Bl\n",
      "Sentiment(polarity=-0.5, subjectivity=0.6)\n",
      "Almost crawled into my kitchen bec of wobbly and sore legs, perused the cupboard and fridge for some grub but then… https://t.co/GCQj0WDeIZ\n",
      "Sentiment(polarity=0.0, subjectivity=0.0)\n",
      "It's been song week. And I just slept for 5 hours straight...woooweeee. Flu must be waning, finally. #hope  #Flu2018 https://t.co/vcJpkrcEbU\n",
      "Sentiment(polarity=0.0, subjectivity=1.0)\n",
      "When you cough so hard you puke a little #flu2018\n",
      "Sentiment(polarity=-0.23958333333333334, subjectivity=0.5208333333333333)\n",
      "You know you’re jacked up when you don’t have the energy to sit on the sofa and play Xbox. 😕 #shitsucks #outofburritocoverings #Flu2018\n",
      "Sentiment(polarity=0.0, subjectivity=0.0)\n",
      "I also puked in target today 🤭 #flu2018\n",
      "Sentiment(polarity=0.0, subjectivity=0.0)\n",
      "Watch on #Periscope: I missed you..#Flu2018 #imback #TGIFriday https://t.co/mHTrb3t1Qy\n",
      "Sentiment(polarity=0.0, subjectivity=0.0)\n",
      "I ATE A MEAL FOR THE FIRST TIME IN 4 DAYS 💁🏼‍♀️ #Flu2018\n",
      "Sentiment(polarity=0.25, subjectivity=0.3333333333333333)\n",
      "I learned today that @halls puts little sayings on their lozenges. Frankly, when I’m running a high fever — which I… https://t.co/wx4k8e3V3o\n",
      "Sentiment(polarity=-0.013749999999999998, subjectivity=0.52)\n",
      "Girl, 19, dies of the FLU hours after she felt 'a bit of a cold' \n",
      "#Flu2018  https://t.co/qoFhqYIJGp\n",
      "Sentiment(polarity=-0.6, subjectivity=1.0)\n",
      "#FluShot #Flu #Flu2018 ...this woman's child is dead because of the flu shot. the flu shot kills! especially childr… https://t.co/Z1AH1XnGN8\n",
      "Sentiment(polarity=-0.125, subjectivity=0.7)\n"
     ]
    }
   ],
   "source": [
    "api=tweepy.API(auth)\n",
    "public_tweets=api.search('#Flu2018')\n",
    "\n",
    "for tweet in public_tweets:\n",
    "    print(tweet.text)\n",
    "    analysis=TextBlob(tweet.text)\n",
    "    print(analysis.sentiment)"
   ]
  },
  {
   "cell_type": "code",
   "execution_count": null,
   "metadata": {
    "collapsed": true
   },
   "outputs": [],
   "source": []
  },
  {
   "cell_type": "code",
   "execution_count": null,
   "metadata": {
    "collapsed": true
   },
   "outputs": [],
   "source": []
  }
 ],
 "metadata": {
  "kernelspec": {
   "display_name": "Python 3",
   "language": "python",
   "name": "python3"
  },
  "language_info": {
   "codemirror_mode": {
    "name": "ipython",
    "version": 3
   },
   "file_extension": ".py",
   "mimetype": "text/x-python",
   "name": "python",
   "nbconvert_exporter": "python",
   "pygments_lexer": "ipython3",
   "version": "3.6.1"
  }
 },
 "nbformat": 4,
 "nbformat_minor": 2
}
